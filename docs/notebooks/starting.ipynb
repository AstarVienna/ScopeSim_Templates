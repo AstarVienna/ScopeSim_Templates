{
 "cells": [
  {
   "cell_type": "markdown",
   "id": "8011449c-2569-40c6-8c55-70b7819d9a81",
   "metadata": {},
   "source": [
    "# Getting Started\n",
    "\n",
    "`scopesim.source.Source` objects are composed of a spatial description and a spectral one. Spatial description can be `astropy.table.Table` objects for point sources or an `astropy.fits.ImageHDU` for extended sources. Spectral description is provided as `synphot.SourceSpectrum` or compatible objects. Spectral datacubes can also be accepted\n",
    "\n",
    "## Creation of a `Source`\n",
    "\n",
    "The creation of `scopesim.source.Source` objects might require quite a bit of interaction from the user. For example\n"
   ]
  },
  {
   "cell_type": "code",
   "execution_count": 1,
   "id": "da8bfd8e-3d61-4e5f-8cfe-8def9f124c0b",
   "metadata": {},
   "outputs": [
    {
     "data": {
      "image/png": "[encoded data removed]",
      "text/plain": [
       "<Figure size 432x288 with 1 Axes>"
      ]
     },
     "metadata": {
      "needs_background": "light"
     },
     "output_type": "display_data"
    },
    {
     "data": {
      "image/png": "[encoded data removed]",
      "text/plain": [
       "<Figure size 432x288 with 1 Axes>"
      ]
     },
     "metadata": {
      "needs_background": "light"
     },
     "output_type": "display_data"
    }
   ],
   "source": [
    "import numpy as np\n",
    "import matplotlib.pyplot as plt\n",
    "from astropy.io import fits\n",
    "import synphot\n",
    "from scopesim import Source\n",
    "\n",
    "# creation of a image with a central source defined by a 2D gaussian\n",
    "x, y = np.meshgrid(np.arange(100), np.arange(100))\n",
    "img = np.exp(-1 * ( ( (x - 50) / 5)**2 + ( (y - 50) / 5)**2 ) )\n",
    "\n",
    "# Fits headers of the image. Yes it needs a WCS\n",
    "hdr = fits.Header(dict(NAXIS=2,\n",
    "                       NAXIS1=img.shape[0]+1,\n",
    "                       NAXIS2=img.shape[1]+1,\n",
    "                       CRPIX1=img.shape[0] / 2,\n",
    "                       CRPIX2=img.shape[1] / 2,\n",
    "                       CRVAL1=0,\n",
    "                       CRVAL2=0,\n",
    "                       CDELT1=0.2/3600,\n",
    "                       CDELT2=0.2/3600,\n",
    "                       CUNIT1=\"DEG\",\n",
    "                       CUNIT2=\"DEG\",\n",
    "                       CTYPE1='RA---TAN',\n",
    "                       CTYPE2='DEC--TAN'))\n",
    "\n",
    "# Creating an ImageHDU object\n",
    "hdu = fits.ImageHDU(data=img, header=hdr)\n",
    "\n",
    "# Creating of a black body spectrum\n",
    "wave = np.arange(1000, 35000, 10 )\n",
    "bb = synphot.models.BlackBody1D(temperature=5000)\n",
    "sp = synphot.SourceSpectrum(synphot.Empirical1D, points=wave, lookup_table=bb(wave))\n",
    "\n",
    "# Source creation\n",
    "src1 = Source(image_hdu=hdu, spectra=sp)\n",
    "\n",
    "plt.imshow(src1.fields[0].data)\n",
    "src1.spectra[0].plot()"
   ]
  },
  {
   "cell_type": "markdown",
   "id": "48248245-3917-4197-aa30-1f36105185f4",
   "metadata": {},
   "source": [
    "The attributes `.fields` and `.spectra` contain the spatial and spectral description of the sources respectively. Datacubes are stored in the `cube` attribute\n",
    "\n",
    "These attributes are actually lists of objects which allow to store several sources to be used in one simulation. "
   ]
  },
  {
   "cell_type": "markdown",
   "id": "a98baecb-c516-4acc-8a20-57a07708605c",
   "metadata": {},
   "source": [
    "## Combining sources\n",
    "\n",
    "For example, let's create now a simple point source and combine it with the previous one"
   ]
  },
  {
   "cell_type": "code",
   "execution_count": 2,
   "id": "4f8158c5-997f-4415-8060-39499544b185",
   "metadata": {},
   "outputs": [
    {
     "name": "stdout",
     "output_type": "stream",
     "text": [
      "[0]: ImageHDU with size (100, 100), referencing spectrum 0\n",
      "[1]: Table with 1 rows, referencing spectra {1} \n",
      "\n"
     ]
    }
   ],
   "source": [
    "lam = np.arange(1000, 10000, 1)\n",
    "flux = np.ones(lam.shape)\n",
    "\n",
    "src2 = Source(x=[0], y=[0], lam=lam, spectra=flux, weight=[1], ref=[0])\n",
    "\n",
    "src = src1 + src2\n",
    "\n",
    "# printing information about the combined source\n",
    "print(src)"
   ]
  },
  {
   "cell_type": "markdown",
   "id": "d5388e0b-14d4-4744-a088-30ccc697353c",
   "metadata": {},
   "source": [
    "More details can be found in the respective fields"
   ]
  },
  {
   "cell_type": "code",
   "execution_count": 3,
   "id": "341962dc-b48b-4d9a-8878-a7132f1e11e9",
   "metadata": {},
   "outputs": [
    {
     "name": "stdout",
     "output_type": "stream",
     "text": [
      "[<synphot.spectrum.SourceSpectrum object at 0x7f93b056dd60>, <synphot.spectrum.SourceSpectrum object at 0x7f93d03a1430>]\n",
      "[<astropy.io.fits.hdu.image.ImageHDU object at 0x7f93b0676b80>, <Table length=1>\n",
      "   x       y     ref  weight\n",
      " arcsec  arcsec             \n",
      "float64 float64 int64 int64 \n",
      "------- ------- ----- ------\n",
      "    0.0     0.0     1      1]\n"
     ]
    }
   ],
   "source": [
    "print(src.spectra)\n",
    "\n",
    "print(src.fields)"
   ]
  },
  {
   "cell_type": "markdown",
   "id": "43ac2fa9-754a-4c4b-85ce-8c95003d8f2b",
   "metadata": {},
   "source": [
    "## ScopeSim_Templates\n",
    "\n",
    "The idea of `ScopeSim_Templates` is exactly to aid the creation of standard sources to used in the simulator `ScopeSim`.\n",
    "\n",
    "Currently the package contain sources to work with stellar and extragalactic objects, as well as general function for other purposes. \n",
    "\n",
    "The following example combines galaxy and a central source simulating an AGN"
   ]
  },
  {
   "cell_type": "code",
   "execution_count": 4,
   "id": "d72098ac-2e1a-444e-9966-4c17a833e15f",
   "metadata": {},
   "outputs": [
    {
     "name": "stdout",
     "output_type": "stream",
     "text": [
      "[0]: ImageHDU with size (150, 150), referencing spectrum 0\n",
      "[1]: Table with 1 rows, referencing spectra {1} \n",
      "\n"
     ]
    }
   ],
   "source": [
    "from scopesim_templates.extragalactic import galaxy\n",
    "from scopesim_templates.misc import point_source\n",
    "\n",
    "gal = galaxy(sed=\"kc96/s0\", amplitude=15, filter_curve=\"g\")  # This will create a galaxy with an S0 SED from the Kinney-Calzetti library (see speXtra)\n",
    "agn = point_source(sed=\"agn/qso\", amplitude=13, filter_curve=\"g\") # and this an AGN\n",
    "\n",
    "source = gal + agn\n",
    "\n",
    "print(repr(source))"
   ]
  }
 ],
 "metadata": {
  "kernelspec": {
   "display_name": "Python 3 (ipykernel)",
   "language": "python",
   "name": "python3"
  },
  "language_info": {
   "codemirror_mode": {
    "name": "ipython",
    "version": 3
   },
   "file_extension": ".py",
   "mimetype": "text/x-python",
   "name": "python",
   "nbconvert_exporter": "python",
   "pygments_lexer": "ipython3",
   "version": "3.11.5"
  }
 },
 "nbformat": 4,
 "nbformat_minor": 5
}
